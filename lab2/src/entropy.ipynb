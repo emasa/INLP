{
 "cells": [
  {
   "cell_type": "code",
   "execution_count": 2,
   "metadata": {
    "collapsed": true
   },
   "outputs": [],
   "source": [
    "% reset -f"
   ]
  },
  {
   "cell_type": "code",
   "execution_count": 3,
   "metadata": {
    "collapsed": false
   },
   "outputs": [],
   "source": [
    "from __future__ import print_function\n",
    "\n",
    "import itertools\n",
    "\n",
    "# download punkt model for sentence tokenizer\n",
    "# using nltk.download()\n",
    "from nltk.tokenize import sent_tokenize, word_tokenize\n",
    "\n",
    "from my_nltk.model.counter import build_vocabulary\n",
    "from entropy_functions import clean_text\n",
    "\n",
    "# english corpus\n",
    "with open('../data/en.txt') as corpus_file:\n",
    "    input_text = corpus_file.read()\n",
    "\n",
    "# tokenize\n",
    "# run experiment with data cleaned\n",
    "sents = [word_tokenize(clean_text(sent)) for sent in sent_tokenize(input_text)]\n",
    "# run experiment without cleaning the data\n",
    "#sents = [word_tokenize(sent) for sent in sent_tokenize(input_text)]\n",
    "\n",
    "# create a vocabulary (it could be used for filtering unfrequent words)\n",
    "vocabulary = build_vocabulary(1, itertools.chain(*sents))"
   ]
  },
  {
   "cell_type": "code",
   "execution_count": 2,
   "metadata": {
    "collapsed": false
   },
   "outputs": [
    {
     "name": "stdout",
     "output_type": "stream",
     "text": [
      "en.txt corpus using 1-gram. H: 10.560 perplexity: 1509.917\n",
      "en.txt corpus using 2-gram. H: 5.884 perplexity: 59.038\n",
      "en.txt corpus using 3-gram. H: 2.182 perplexity: 4.538\n"
     ]
    }
   ],
   "source": [
    "from my_nltk.model.counter import count_ngrams\n",
    "from my_nltk.model.ngram import NgramModel\n",
    "\n",
    "n_gram = {}\n",
    "for n in [1, 2, 3]:\n",
    "    # store models for testing\n",
    "    n_gram[n] = NgramModel(count_ngrams(n, vocabulary, sents))\n",
    "    print(\"{} corpus using {}-gram. H: {:.3f} perplexity: {:.3f}\".format('en.txt', n, n_gram[n].entropy(), n_gram[n].perplexity()))"
   ]
  },
  {
   "cell_type": "code",
   "execution_count": null,
   "metadata": {
    "collapsed": false
   },
   "outputs": [],
   "source": [
    "% reset -f"
   ]
  },
  {
   "cell_type": "code",
   "execution_count": 51,
   "metadata": {
    "collapsed": false
   },
   "outputs": [],
   "source": [
    "from __future__ import print_function\n",
    "\n",
    "from entropy_functions import get_tagged_words_from_file, get_words_from_tagged_sents\n",
    "from entropy_functions import get_tagged_sents, clean_tagged_sent\n",
    "from my_nltk.model.counter import build_vocabulary\n",
    "\n",
    "# create one unique sentence from the file\n",
    "#tagged_words = get_tagged_words_from_file('../data/taggedBrown.txt')\n",
    "#tagged_sents = [clean_tagged_sent(tagged_words)]\n",
    "\n",
    "# use sentences from the news category in the brown corpus \n",
    "# run experiment with data cleaned\n",
    "tagged_sents = [clean_tagged_sent(tagged_sent) for tagged_sent in get_tagged_sents()]\n",
    "\n",
    "# run experiment without cleaning the data\n",
    "#tagged_sents = [tagged_sent for tagged_sent in get_tagged_sents()]\n",
    "\n",
    "# define/override words using the cleaned sentences\n",
    "tagged_words = get_words_from_tagged_sents(tagged_sents)\n",
    "\n",
    "# create a vocabulary (it could be used for filtering unfrequent words)\n",
    "vocabulary = build_vocabulary(1, tagged_words)"
   ]
  },
  {
   "cell_type": "code",
   "execution_count": 52,
   "metadata": {
    "collapsed": false
   },
   "outputs": [
    {
     "data": {
      "text/plain": [
       "[(u'<s>', u'<s>', 'the'),\n",
       " (u'<s>', 'the', 'fulton'),\n",
       " (u'<DET>', 'fulton', 'county'),\n",
       " (u'<NOUN>', 'county', 'grand'),\n",
       " (u'<NOUN>', 'grand', 'jury'),\n",
       " (u'<ADJ>', 'jury', 'said'),\n",
       " (u'<NOUN>', 'said', 'friday'),\n",
       " (u'<VERB>', 'friday', 'an'),\n",
       " (u'<NOUN>', 'an', 'investigation'),\n",
       " (u'<DET>', 'investigation', 'of'),\n",
       " (u'<NOUN>', 'of', 'atlantas'),\n",
       " (u'<ADP>', 'atlantas', 'recent'),\n",
       " (u'<NOUN>', 'recent', 'primary'),\n",
       " (u'<ADJ>', 'primary', 'election'),\n",
       " (u'<NOUN>', 'election', 'produced'),\n",
       " (u'<NOUN>', 'produced', 'no'),\n",
       " (u'<VERB>', 'no', 'evidence'),\n",
       " (u'<DET>', 'evidence', 'that'),\n",
       " (u'<NOUN>', 'that', 'any'),\n",
       " (u'<ADP>', 'any', 'irregularities'),\n",
       " (u'<DET>', 'irregularities', 'took'),\n",
       " (u'<NOUN>', 'took', 'place'),\n",
       " (u'<VERB>', 'place', u'</s>'),\n",
       " (u'<NOUN>', u'</s>', u'</s>')]"
      ]
     },
     "execution_count": 52,
     "metadata": {},
     "output_type": "execute_result"
    }
   ],
   "source": [
    "from my_nltk.model.counter import smooth_count_ngrams\n",
    "\n",
    "# playing around with n-grams\n",
    "\n",
    "# number n for creating a n-gram\n",
    "n = 3\n",
    "# number of components to be smoothed. it can take\n",
    "# values in [0, n]\n",
    "smooth = 1\n",
    "cnt = smooth_count_ngrams(n, vocabulary, smooth, [])\n",
    "# show 3-grams for the first sentence \n",
    "cnt.to_ngrams(tagged_sents[0])"
   ]
  },
  {
   "cell_type": "code",
   "execution_count": 56,
   "metadata": {
    "collapsed": false
   },
   "outputs": [
    {
     "name": "stdout",
     "output_type": "stream",
     "text": [
      "#Sentences ratio: 1.000 #Words ratio: 1.000\n",
      "Brown corpus using 3-gram with 0 smoothed components. H: 1.241 Perplexity: 2.364\n",
      "Brown corpus using 3-gram with 1 smoothed components. H: 0.322 Perplexity: 1.250\n",
      "Brown corpus using 3-gram with 2 smoothed components. H: -0.000 Perplexity: 1.000\n",
      "\n",
      "#Sentences ratio: 0.500 #Words ratio: 0.497\n",
      "Brown corpus using 3-gram with 0 smoothed components. H: 1.022 Perplexity: 2.031\n",
      "Brown corpus using 3-gram with 1 smoothed components. H: 0.278 Perplexity: 1.212\n",
      "Brown corpus using 3-gram with 2 smoothed components. H: -0.000 Perplexity: 1.000\n",
      "\n",
      "#Sentences ratio: 0.250 #Words ratio: 0.258\n",
      "Brown corpus using 3-gram with 0 smoothed components. H: 0.888 Perplexity: 1.850\n",
      "Brown corpus using 3-gram with 1 smoothed components. H: 0.230 Perplexity: 1.173\n",
      "Brown corpus using 3-gram with 2 smoothed components. H: -0.000 Perplexity: 1.000\n",
      "\n"
     ]
    }
   ],
   "source": [
    "import nltk\n",
    "from nltk.util import ngrams\n",
    "\n",
    "from my_nltk.model.counter import smooth_count_ngrams\n",
    "from my_nltk.model.ngram import NgramModel\n",
    "\n",
    "import itertools\n",
    "\n",
    "msg = \"{corpus} corpus using 3-gram with {smooth} smoothed components. H: {entropy:.3f} Perplexity: {perplexity:.3f}\"\n",
    "\n",
    "n=3\n",
    "brown_trigram = {}\n",
    "for corpus_size in [1, 2, 4]:\n",
    "    \n",
    "    # select a proportion of the sentences of the corpus (keep words proportion) \n",
    "    sents_ratio = 1./corpus_size\n",
    "\n",
    "    if len(tagged_sents) == 1:\n",
    "        selected_tagged_sents = [tagged_sents[0][:int(len(tagged_words) * sents_ratio)]]\n",
    "    else:\n",
    "        selected_tagged_sents = tagged_sents[:int(len(tagged_sents) * sents_ratio)]\n",
    "\n",
    "    words_ratio = 1. * len(list(itertools.chain(*selected_tagged_sents))) / len(tagged_words)\n",
    "    print(\"#Sentences ratio: {:.3f} #Words ratio: {:.3f}\".format(sents_ratio, words_ratio))\n",
    "        \n",
    "    for smooth in [0, 1, 2]:        \n",
    "        # store models for testing\n",
    "        brown_trigram[(corpus_size, smooth)] = NgramModel(smooth_count_ngrams(n, vocabulary, \n",
    "                                                                              smooth, selected_tagged_sents))\n",
    "        \n",
    "        print(msg.format(corpus='Brown', smooth=smooth, \n",
    "                         entropy=brown_trigram[(corpus_size, smooth)].entropy(), \n",
    "                         perplexity=brown_trigram[(corpus_size, smooth)].perplexity()))\n",
    "    \n",
    "    print() # new line"
   ]
  },
  {
   "cell_type": "code",
   "execution_count": null,
   "metadata": {
    "collapsed": true
   },
   "outputs": [],
   "source": []
  }
 ],
 "metadata": {
  "anaconda-cloud": {},
  "kernelspec": {
   "display_name": "Python [conda root]",
   "language": "python",
   "name": "conda-root-py"
  },
  "language_info": {
   "codemirror_mode": {
    "name": "ipython",
    "version": 2
   },
   "file_extension": ".py",
   "mimetype": "text/x-python",
   "name": "python",
   "nbconvert_exporter": "python",
   "pygments_lexer": "ipython2",
   "version": "2.7.12"
  }
 },
 "nbformat": 4,
 "nbformat_minor": 0
}
