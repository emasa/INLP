{
 "cells": [
  {
   "cell_type": "code",
   "execution_count": 1,
   "metadata": {
    "collapsed": false
   },
   "outputs": [],
   "source": [
    "import nltk\n",
    "from nltk.corpus import treebank\n",
    "\n",
    "# get sentences parsed as trees\n",
    "tree_sents = treebank.parsed_sents()\n",
    "\n",
    "# split sentences into training and testing datasets\n",
    "train_ratio = 0.9\n",
    "train_size = int(len(tree_sents) * train_ratio)\n",
    "tree_sents_train, tree_sents_test = tree_sents[:train_size], tree_sents[train_size:]"
   ]
  },
  {
   "cell_type": "code",
   "execution_count": 2,
   "metadata": {
    "collapsed": false
   },
   "outputs": [],
   "source": [
    "# functions for filtering NP subtrees which are non-recursive\n",
    "# check if exist a child that has the specific label\n",
    "def child_has_label(t, label):\n",
    "    for child in t:\n",
    "        if label == child.label():\n",
    "            return True\n",
    "    return False\n",
    "\n",
    "# check if tree is NP and no direct child is NP (non recursive NP)\n",
    "nonrec_np = lambda t : t.label() == 'NP' and not child_has_label(t, 'NP')\n",
    "# filter non-recursive NP trees\n",
    "get_nonrec_np_subtrees = lambda tree_sents : [[sub_t for sub_t in t.subtrees(nonrec_np)] for t in tree_sents]\n",
    "\n",
    "# non-recursive NP trees grouped by sentences\n",
    "nonrec_np_subts_train = get_nonrec_np_subtrees(tree_sents_train)\n",
    "nonrec_np_subts_test = get_nonrec_np_subtrees(tree_sents_test)"
   ]
  },
  {
   "cell_type": "code",
   "execution_count": 3,
   "metadata": {
    "collapsed": false
   },
   "outputs": [
    {
     "name": "stdout",
     "output_type": "stream",
     "text": [
      "                                                     S                                                                         \n",
      "                         ____________________________|_______________________________________________________________________   \n",
      "                        |                                               VP                                                   | \n",
      "                        |                        _______________________|___                                                 |  \n",
      "                      NP-SBJ                    |                           VP                                               | \n",
      "         _______________|___________________    |     ______________________|______________________________________          |  \n",
      "        |          |              ADJP      |   |    |        |                PP-CLR                              |         | \n",
      "        |          |           ____|____    |   |    |        |          ________|_________                        |         |  \n",
      "        NP         |          NP        |   |   |    |        NP        |                  NP                    NP-TMP      | \n",
      "   _____|____      |     _____|____     |   |   |    |     ___|____     |    ______________|__________        _____|_____    |  \n",
      " NNP        NNP    ,    CD        NNS   JJ  ,   MD   VB   DT       NN   IN  DT             JJ         NN    NNP          CD  . \n",
      "  |          |     |    |          |    |   |   |    |    |        |    |   |              |          |      |           |   |  \n",
      "Pierre     Vinken  ,    61       years old  ,  will join the     board  as  a         nonexecutive director Nov.         29  . \n",
      "\n"
     ]
    }
   ],
   "source": [
    "# Example\n",
    "tree_sents_train[0].pretty_print() # text\n",
    "#tree_sents_train[0].draw() # graphical UI"
   ]
  },
  {
   "cell_type": "code",
   "execution_count": 4,
   "metadata": {
    "collapsed": false
   },
   "outputs": [],
   "source": [
    "# NP chunks grouped by sentences\n",
    "chunks_train = [[sub_t.leaves() for sub_t in t] for t in nonrec_np_subts_train]\n",
    "chunks_test = [[sub_t.leaves() for sub_t in t] for t in nonrec_np_subts_test]"
   ]
  },
  {
   "cell_type": "code",
   "execution_count": 5,
   "metadata": {
    "collapsed": false
   },
   "outputs": [
    {
     "data": {
      "text/plain": [
       "[[u'Pierre', u'Vinken'],\n",
       " [u'61', u'years'],\n",
       " [u'the', u'board'],\n",
       " [u'a', u'nonexecutive', u'director']]"
      ]
     },
     "execution_count": 5,
     "metadata": {},
     "output_type": "execute_result"
    }
   ],
   "source": [
    "# Example\n",
    "# NP chunks\n",
    "chunks_train[0]"
   ]
  },
  {
   "cell_type": "code",
   "execution_count": 6,
   "metadata": {
    "collapsed": false
   },
   "outputs": [
    {
     "name": "stdout",
     "output_type": "stream",
     "text": [
      "        NP       \n",
      "   _____|____     \n",
      " NNP        NNP  \n",
      "  |          |    \n",
      "Pierre     Vinken\n",
      "\n",
      "     NP      \n",
      "  ___|____    \n",
      " CD      NNS \n",
      " |        |   \n",
      " 61     years\n",
      "\n",
      "     NP      \n",
      "  ___|____    \n",
      " DT       NN \n",
      " |        |   \n",
      "the     board\n",
      "\n",
      "         NP              \n",
      "  _______|__________      \n",
      " DT      JJ         NN   \n",
      " |       |          |     \n",
      " a  nonexecutive director\n",
      "\n"
     ]
    }
   ],
   "source": [
    "# Example\n",
    "# graphical view of the NP chunks as trees\n",
    "for sub_t in nonrec_np_subts_train[0]:\n",
    "    sub_t.pretty_print() # text\n",
    "    #sub_t.draw() # graphical UI"
   ]
  },
  {
   "cell_type": "code",
   "execution_count": 7,
   "metadata": {
    "collapsed": false
   },
   "outputs": [],
   "source": [
    "# get the grammar rules, also called productions\n",
    "get_productions = lambda tree_sents : [p for sent in tree_sents for p in sent.productions()]\n",
    "\n",
    "import itertools\n",
    "prods_train = get_productions(itertools.chain(*nonrec_np_subts_train))\n",
    "prods_test  = get_productions(itertools.chain(*nonrec_np_subts_test))\n",
    "\n",
    "# filter non-terminal productions\n",
    "is_non_terminal = lambda p : p.is_nonlexical()\n",
    "prods_train = filter(is_non_terminal, prods_train)\n",
    "prods_test = filter(is_non_terminal, prods_test)"
   ]
  },
  {
   "cell_type": "code",
   "execution_count": 8,
   "metadata": {
    "collapsed": false
   },
   "outputs": [
    {
     "data": {
      "text/plain": [
       "[NP -> NNP NNP, NP -> CD NNS, NP -> DT NN, NP -> DT JJ NN]"
      ]
     },
     "execution_count": 8,
     "metadata": {},
     "output_type": "execute_result"
    }
   ],
   "source": [
    "# Example\n",
    "prods = filter(is_non_terminal, get_productions(nonrec_np_subts_train[0]))\n",
    "prods"
   ]
  },
  {
   "cell_type": "code",
   "execution_count": 9,
   "metadata": {
    "collapsed": false
   },
   "outputs": [],
   "source": [
    "# compute productions frequency\n",
    "from nltk.probability import FreqDist\n",
    "fdist = FreqDist(prods_train)"
   ]
  },
  {
   "cell_type": "code",
   "execution_count": 10,
   "metadata": {
    "collapsed": false
   },
   "outputs": [
    {
     "data": {
      "image/png": "[encoded data removed]",
      "text/plain": [
       "<matplotlib.figure.Figure at 0x86033c8>"
      ]
     },
     "metadata": {},
     "output_type": "display_data"
    }
   ],
   "source": [
    "# Example\n",
    "# Plot the 50 most frequent rules\n",
    "fdist.plot(50)"
   ]
  },
  {
   "cell_type": "code",
   "execution_count": 11,
   "metadata": {
    "collapsed": false
   },
   "outputs": [
    {
     "data": {
      "text/plain": [
       "[(NP -> DT NN, 1888),\n",
       " (NP -> -NONE-, 1133),\n",
       " (NP -> NN, 1013),\n",
       " (NP -> NNS, 939),\n",
       " (NP -> NNP, 797),\n",
       " (NP -> NNP NNP, 685),\n",
       " (NP -> DT JJ NN, 682),\n",
       " (NP -> JJ NNS, 605),\n",
       " (NP -> JJ NN, 356),\n",
       " (NP -> DT NNS, 334)]"
      ]
     },
     "execution_count": 11,
     "metadata": {},
     "output_type": "execute_result"
    }
   ],
   "source": [
    "# Example\n",
    "# Get the 10 most frequent rules\n",
    "fdist.most_common(10)"
   ]
  },
  {
   "cell_type": "code",
   "execution_count": 12,
   "metadata": {
    "collapsed": false
   },
   "outputs": [],
   "source": [
    "# compute coverage ?\n",
    "unique_prods_train = set(prods_train)\n",
    "unique_prods_test  = set(prods_test)\n",
    "\n",
    "# number of unique productions in testing set covered by training set\n",
    "coverage = 1. * len(unique_prods_train & unique_prods_test) / len(unique_prods_test)"
   ]
  },
  {
   "cell_type": "code",
   "execution_count": 13,
   "metadata": {
    "collapsed": false
   },
   "outputs": [
    {
     "data": {
      "text/plain": [
       "0.6942148760330579"
      ]
     },
     "execution_count": 13,
     "metadata": {},
     "output_type": "execute_result"
    }
   ],
   "source": [
    "coverage"
   ]
  },
  {
   "cell_type": "code",
   "execution_count": 14,
   "metadata": {
    "collapsed": false
   },
   "outputs": [],
   "source": [
    "# compute accuracy ?\n",
    "prods_test_contained_in_train = 0\n",
    "for p in prods_test:\n",
    "    if p in unique_prods_train:\n",
    "        prods_test_contained_in_train += 1\n",
    "\n",
    "# number of productions (including repetitions) in testing set covered by training set\n",
    "accuracy = 1.0 * prods_test_contained_in_train / len(prods_test)"
   ]
  },
  {
   "cell_type": "code",
   "execution_count": 15,
   "metadata": {
    "collapsed": false
   },
   "outputs": [
    {
     "data": {
      "text/plain": [
       "0.9422222222222222"
      ]
     },
     "execution_count": 15,
     "metadata": {},
     "output_type": "execute_result"
    }
   ],
   "source": [
    "accuracy"
   ]
  },
  {
   "cell_type": "code",
   "execution_count": 16,
   "metadata": {
    "collapsed": false
   },
   "outputs": [],
   "source": [
    "#from nltk.grammar import PCFG, induce_pcfg, Nonterminal\n",
    "#treebank_prob_grammar = induce_pcfg(Nonterminal('S'), prods_train)"
   ]
  },
  {
   "cell_type": "code",
   "execution_count": 17,
   "metadata": {
    "collapsed": false
   },
   "outputs": [],
   "source": [
    "#treebank_prob_grammar.productions()"
   ]
  }
 ],
 "metadata": {
  "anaconda-cloud": {},
  "kernelspec": {
   "display_name": "Python [conda root]",
   "language": "python",
   "name": "conda-root-py"
  },
  "language_info": {
   "codemirror_mode": {
    "name": "ipython",
    "version": 2
   },
   "file_extension": ".py",
   "mimetype": "text/x-python",
   "name": "python",
   "nbconvert_exporter": "python",
   "pygments_lexer": "ipython2",
   "version": "2.7.12"
  }
 },
 "nbformat": 4,
 "nbformat_minor": 1
}
